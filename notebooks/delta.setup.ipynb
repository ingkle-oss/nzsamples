{
 "cells": [
  {
   "cell_type": "markdown",
   "id": "763874cf-e8c7-4564-be1a-da9e217e3098",
   "metadata": {},
   "source": [
    "### Install python packages"
   ]
  },
  {
   "cell_type": "code",
   "execution_count": null,
   "id": "53498699-7db7-43d6-a94a-0e7e5917c986",
   "metadata": {},
   "outputs": [],
   "source": [
    "!pip3 install pyarrow"
   ]
  },
  {
   "cell_type": "markdown",
   "id": "ab9b8f0a",
   "metadata": {},
   "source": [
    "### Load arros magic command"
   ]
  },
  {
   "cell_type": "code",
   "execution_count": null,
   "id": "5a7125ee",
   "metadata": {},
   "outputs": [],
   "source": [
    "%load_ext arros"
   ]
  },
  {
   "cell_type": "markdown",
   "id": "2b6a748c-c507-4759-a809-56336114de5d",
   "metadata": {},
   "source": [
    "### Create bucket and remove objects if exists"
   ]
  },
  {
   "cell_type": "code",
   "execution_count": null,
   "id": "90f70571-7e10-4b51-a0fa-5e5da350f98a",
   "metadata": {},
   "outputs": [],
   "source": [
    "%%arros\n",
    "CALL s3@create_bucket('datasets');\n",
    "CALL s3@delete_objects('datasets', 'molding');\n",
    "CALL s3@delete_objects('datasets', 'press');"
   ]
  },
  {
   "cell_type": "markdown",
   "id": "48fa183d",
   "metadata": {},
   "source": [
    "### Create deltatable from molding dataset"
   ]
  },
  {
   "cell_type": "code",
   "execution_count": null,
   "id": "facbd7a8",
   "metadata": {},
   "outputs": [],
   "source": [
    "%%arros\n",
    "DROP TABLE IF EXISTS sample0;\n",
    "DROP TABLE IF EXISTS molding;\n",
    "CREATE EXTERNAL TABLE sample0 STORED AS CSV LOCATION 's3://datasets/samples/molding.csv' OPTIONS ('has_header' 'true');\n",
    "CREATE EXTERNAL TABLE molding STORED AS DELTASINK LOCATION 's3://datasets/molding' OPTIONS ('schema' 'sample0', 'commit_interval' '1s');\n",
    "INSERT INTO molding SELECT * FROM sample0;"
   ]
  },
  {
   "cell_type": "markdown",
   "id": "5bb7db80-4f94-4c07-825d-08705775201d",
   "metadata": {},
   "source": [
    "### Create deltatable from press dataset"
   ]
  },
  {
   "cell_type": "code",
   "execution_count": null,
   "id": "5ac82a38-77b2-462d-b7d1-2ea1c165c49d",
   "metadata": {},
   "outputs": [],
   "source": [
    "%%arros\n",
    "DROP TABLE IF EXISTS sample0;\n",
    "DROP TABLE IF EXISTS press;\n",
    "CREATE EXTERNAL TABLE sample0 STORED AS CSV LOCATION 's3://datasets/samples/press.csv' OPTIONS ('has_header' 'true');\n",
    "CREATE EXTERNAL TABLE press STORED AS DELTASINK LOCATION 's3://datasets/press' OPTIONS ('schema' 'sample0', 'commit_interval' '1s');\n",
    "INSERT INTO press SELECT * FROM sample0;"
   ]
  }
 ],
 "metadata": {
  "kernelspec": {
   "display_name": "Python 3 (ipykernel)",
   "language": "python",
   "name": "python3"
  },
  "language_info": {
   "codemirror_mode": {
    "name": "ipython",
    "version": 3
   },
   "file_extension": ".py",
   "mimetype": "text/x-python",
   "name": "python",
   "nbconvert_exporter": "python",
   "pygments_lexer": "ipython3",
   "version": "3.11.9"
  }
 },
 "nbformat": 4,
 "nbformat_minor": 5
}
