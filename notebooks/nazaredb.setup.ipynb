{
 "cells": [
  {
   "cell_type": "markdown",
   "id": "eb7acda5-66aa-4c1b-8073-b2253f7031f8",
   "metadata": {},
   "source": [
    "### Install python packages"
   ]
  },
  {
   "cell_type": "code",
   "execution_count": null,
   "id": "a90cd398-3375-49c9-bfb8-e03a805a19aa",
   "metadata": {},
   "outputs": [],
   "source": [
    "!pip3 install pandas pyarrow psycopg2-binary"
   ]
  },
  {
   "cell_type": "markdown",
   "id": "ab9b8f0a",
   "metadata": {},
   "source": [
    "### Load nazaredb and postgres magic commands"
   ]
  },
  {
   "cell_type": "code",
   "execution_count": null,
   "id": "5a7125ee",
   "metadata": {},
   "outputs": [],
   "source": [
    "%load_ext nazaredb\n",
    "%load_ext postgres"
   ]
  },
  {
   "cell_type": "markdown",
   "id": "072144a4-a3d2-4f22-ad3e-dcf29c300b00",
   "metadata": {},
   "source": [
    "### Register molding and press deltatables"
   ]
  },
  {
   "cell_type": "code",
   "execution_count": null,
   "id": "6ffa13de-c6e2-4a87-b82b-9f279e5b94a6",
   "metadata": {},
   "outputs": [],
   "source": [
    "%%postgres\n",
    "CREATE TABLE IF NOT EXISTS tables\n",
    "(\n",
    "    \"name\" varchar not null,\n",
    "    \"type\" varchar not null,\n",
    "    \"storage\" varchar not null,\n",
    "    \"location\" varchar not null,\n",
    "    \"partitions\" json,\n",
    "    \"options\" json,\n",
    "    \"created_at\" timestamp,\n",
    "    \"updated_at\" timestamp,\n",
    "    primary key(\"name\")\n",
    ");\n",
    "DELETE FROM tables WHERE name='molding';\n",
    "INSERT INTO tables VALUES ('molding', 'external', 'delta', 's3://datasets/molding', '[]', '{}');\n",
    "DELETE FROM tables WHERE name='press';\n",
    "INSERT INTO tables VALUES ('press', 'external', 'delta', 's3://datasets/press', '[]', '{}');"
   ]
  },
  {
   "cell_type": "markdown",
   "id": "ca1a8af6-7a57-455f-9de0-be19735117aa",
   "metadata": {},
   "source": [
    "### Update deltatables"
   ]
  },
  {
   "cell_type": "code",
   "execution_count": null,
   "id": "41f056c3-9982-464e-a7d7-381ad1c30b24",
   "metadata": {},
   "outputs": [],
   "source": [
    "%%nazaredb\n",
    "CALL update_tables();"
   ]
  },
  {
   "cell_type": "markdown",
   "id": "4eca27b3-895a-4730-869a-ea966c896fc4",
   "metadata": {},
   "source": [
    "### Query from molding deltatable"
   ]
  },
  {
   "cell_type": "code",
   "execution_count": null,
   "id": "19abc60f-a55a-4c12-8be4-437b9c9f9687",
   "metadata": {},
   "outputs": [],
   "source": [
    "%%nazaredb\n",
    "SELECT equip_name, count(*) FROM molding GROUP BY equip_name ORDER BY equip_name;"
   ]
  }
 ],
 "metadata": {
  "kernelspec": {
   "display_name": "Python 3 (ipykernel)",
   "language": "python",
   "name": "python3"
  },
  "language_info": {
   "codemirror_mode": {
    "name": "ipython",
    "version": 3
   },
   "file_extension": ".py",
   "mimetype": "text/x-python",
   "name": "python",
   "nbconvert_exporter": "python",
   "pygments_lexer": "ipython3",
   "version": "3.11.9"
  }
 },
 "nbformat": 4,
 "nbformat_minor": 5
}
