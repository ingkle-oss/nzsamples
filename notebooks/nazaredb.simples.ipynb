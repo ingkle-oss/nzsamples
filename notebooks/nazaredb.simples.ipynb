{
 "cells": [
  {
   "cell_type": "markdown",
   "id": "eb7acda5-66aa-4c1b-8073-b2253f7031f8",
   "metadata": {},
   "source": [
    "### Install python packages"
   ]
  },
  {
   "cell_type": "code",
   "execution_count": null,
   "id": "a90cd398-3375-49c9-bfb8-e03a805a19aa",
   "metadata": {},
   "outputs": [],
   "source": [
    "!pip3 install pandas pyarrow"
   ]
  },
  {
   "cell_type": "markdown",
   "id": "ab9b8f0a",
   "metadata": {},
   "source": [
    "### Load nazaredb magic command"
   ]
  },
  {
   "cell_type": "code",
   "execution_count": null,
   "id": "5a7125ee",
   "metadata": {},
   "outputs": [],
   "source": [
    "%load_ext nazaredb"
   ]
  },
  {
   "cell_type": "markdown",
   "id": "4eca27b3-895a-4730-869a-ea966c896fc4",
   "metadata": {},
   "source": [
    "### Simple queries"
   ]
  },
  {
   "cell_type": "code",
   "execution_count": null,
   "id": "19abc60f-a55a-4c12-8be4-437b9c9f9687",
   "metadata": {},
   "outputs": [],
   "source": [
    "%%nazaredb\n",
    "SELECT * FROM molding ORDER BY timestamp LIMIT 30;"
   ]
  },
  {
   "cell_type": "code",
   "execution_count": null,
   "id": "444b85f6-119c-4f30-90a1-907d7b8ab9ae",
   "metadata": {},
   "outputs": [],
   "source": [
    "%%nazaredb\n",
    "SELECT equip_name, count(*) FROM molding GROUP BY equip_name ORDER BY equip_name;"
   ]
  },
  {
   "cell_type": "code",
   "execution_count": null,
   "id": "6f1751da-b3d7-4302-ba9e-19e51e93f796",
   "metadata": {},
   "outputs": [],
   "source": [
    "%%nazaredb\n",
    "SELECT equip_name, avg(mold_temperature_1), min(mold_temperature_1), max(mold_temperature_1) FROM molding GROUP BY equip_name ORDER BY equip_name;"
   ]
  },
  {
   "cell_type": "code",
   "execution_count": null,
   "id": "de20a8de-7370-4011-a41c-59aa2d5e93c6",
   "metadata": {},
   "outputs": [],
   "source": [
    "%%nazaredb\n",
    "SELECT equip_name, timestamp, mold_temperature_1 - 70.0 FROM molding WHERE mold_temperature_1 > 70.0 ORDER BY timestamp;"
   ]
  },
  {
   "cell_type": "code",
   "execution_count": null,
   "id": "fc3778d0-4253-4449-980f-dfb73d7f965c",
   "metadata": {},
   "outputs": [],
   "source": [
    "%%nazaredb\n",
    "SELECT equip_name, timestamp, round(mold_temperature_1,1) FROM molding WHERE mold_temperature_1 BETWEEN 63.0 and 64.0 ORDER BY mold_temperature_1 DESC;"
   ]
  }
 ],
 "metadata": {
  "kernelspec": {
   "display_name": "Python 3 (ipykernel)",
   "language": "python",
   "name": "python3"
  },
  "language_info": {
   "codemirror_mode": {
    "name": "ipython",
    "version": 3
   },
   "file_extension": ".py",
   "mimetype": "text/x-python",
   "name": "python",
   "nbconvert_exporter": "python",
   "pygments_lexer": "ipython3",
   "version": "3.11.9"
  }
 },
 "nbformat": 4,
 "nbformat_minor": 5
}
